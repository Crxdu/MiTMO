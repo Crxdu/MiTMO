{
 "cells": [
  {
   "cell_type": "markdown",
   "id": "6b8b1c8d",
   "metadata": {
    "id": "6b8b1c8d"
   },
   "source": [
    "`Дисциплина: Методы и технологии машинного обучения`   \n",
    "`Уровень подготовки: бакалавриат`   \n",
    "`Направление подготовки: 01.03.02 Прикладная математика и информатика`   \n",
    " "
   ]
  },
  {
   "cell_type": "markdown",
   "id": "1fc5c8ab",
   "metadata": {
    "id": "1fc5c8ab"
   },
   "source": [
    "# Лабораторная работа №5: Машины опорных векторов. \n",
    "\n",
    "\n",
    "В практических примерах ниже показано:    \n",
    "* как классифицировать данные с помощью модели SVM\n",
    "* как использовать конвейеры для подгонки модели и применения её к новым данным\n",
    "\n",
    "Точность всех моделей оценивается методом перекрёстной проверки по 5 блокам.  \n"
   ]
  },
  {
   "cell_type": "markdown",
   "id": "7Fbhep07d_Fp",
   "metadata": {
    "id": "7Fbhep07d_Fp"
   },
   "source": [
    "## Данные\n",
    "\n",
    "1.   `fixed_acidity` – постоянная кислотность;\n",
    "2.   `volatile_acidity` – переменная кислотность;\n",
    "3.   `citric_acid` – содержание лимонной кислоты;\n",
    "4.   `residual_sugar` - остаточный сахар;\n",
    "5.   `chlorides` – содержание хлоридов;\n",
    "6.   `free_sulfur_dioxide` – содержание диоксида серы в свободном виде;\n",
    "7.   `total_sulfur_dioxide` – общее содержание диоксида серы;\n",
    "8.   `density` – плотность;\n",
    "9.   `pH` – кислотность;\n",
    "10.  `sulphates` – содержание сульфатов;\n",
    "11.  `alcohol` – содержание алкоголя;\n",
    "12.  `quality` – балльная оценка качества вина, от 0 до 10;\n",
    "13.  `Y` – целевая переменная: 1 = высокое качество (quality > 5), 0 = низкое (quality <= 5)."
   ]
  },
  {
   "cell_type": "markdown",
   "id": "61b9ab5d",
   "metadata": {
    "id": "61b9ab5d"
   },
   "source": [
    "# Указания к выполнению\n",
    "\n",
    "\n",
    "## Загружаем пакеты"
   ]
  },
  {
   "cell_type": "code",
   "execution_count": 28,
   "id": "c8fa189c",
   "metadata": {
    "id": "c8fa189c"
   },
   "outputs": [],
   "source": [
    "# загрузка пакетов: инструменты --------------------------------------------\n",
    "#  работа с массивами\n",
    "import numpy as np\n",
    "#  фреймы данных\n",
    "import pandas as pd\n",
    "#  графики\n",
    "import matplotlib as mpl\n",
    "#  стили и шаблоны графиков на основе matplotlib\n",
    "import seaborn as sns\n",
    "# перекодировка символьных показателей\n",
    "from sklearn.preprocessing import LabelEncoder\n",
    "# загрузка файлов по URL\n",
    "import urllib\n",
    "# проверка существования файла на диске\n",
    "from pathlib import Path\n",
    "# для форматирования результатов с помощью Markdown\n",
    "from IPython.display import Markdown, display\n",
    "# перекодировка категориальных переменных\n",
    "from sklearn.preprocessing import OrdinalEncoder, OneHotEncoder\n",
    "# хи-квадрат тест на независимость по таблице сопряжённости\n",
    "from scipy.stats import chi2_contingency, t\n",
    "#  для таймера\n",
    "import time\n",
    "\n",
    "# загрузка пакетов: модели ------------------------------------------------- \n",
    "# SVM\n",
    "from sklearn.svm import SVC\n",
    "# логистическая рагрессия\n",
    "from sklearn.linear_model import LogisticRegression \n",
    "# стандартизация\n",
    "from sklearn.preprocessing import StandardScaler\n",
    "# метод главных компонент\n",
    "from sklearn.decomposition import PCA\n",
    "# конвейеры\n",
    "from sklearn.pipeline import make_pipeline\n",
    "# перекрёстная проверка и метод проверочной выборки\n",
    "from sklearn.model_selection import cross_val_score, train_test_split \n",
    "# для перекрёстной проверки и сеточного поиска\n",
    "from sklearn.model_selection import KFold, GridSearchCV\n",
    "# сводка по точности классификации\n",
    "from sklearn.metrics import classification_report\n",
    "\n",
    "# загрузка пакетов: данные -------------------------------------------------\n",
    "from sklearn import datasets\n",
    "\n",
    "# загрузка пакетов: модели -------------------------------------------------\n",
    "#  дерево классификации\n",
    "from sklearn.tree import DecisionTreeClassifier, export_text, plot_tree\n",
    "\n",
    "\n",
    "# бэггинг\n",
    "from sklearn.ensemble import BaggingClassifier\n",
    "# случайный лес\n",
    "from sklearn.ensemble import RandomForestClassifier\n",
    "# бустинг\n",
    "from sklearn.ensemble import GradientBoostingClassifier\n",
    "\n",
    "# для теста хи-квадрат\n",
    "import scipy"
   ]
  },
  {
   "cell_type": "code",
   "execution_count": 29,
   "id": "43a4a48e",
   "metadata": {
    "id": "43a4a48e"
   },
   "outputs": [],
   "source": [
    "# константы\n",
    "#  ядро для генератора случайных чисел\n",
    "my_seed = 6\n",
    "#  создаём псевдоним для короткого обращения к графикам\n",
    "plt = mpl.pyplot\n",
    "# настройка стиля и отображения графиков\n",
    "#  примеры стилей и шаблонов графиков: \n",
    "#  http://tonysyu.github.io/raw_content/matplotlib-style-gallery/gallery.html\n",
    "mpl.style.use('seaborn-whitegrid')\n",
    "sns.set_palette(\"Set2\")\n",
    "# раскомментируйте следующую строку, чтобы посмотреть палитру\n",
    "# sns.color_palette(\"Set2\")"
   ]
  },
  {
   "cell_type": "code",
   "execution_count": 30,
   "id": "a7e42f2c",
   "metadata": {
    "colab": {
     "base_uri": "https://localhost:8080/"
    },
    "executionInfo": {
     "elapsed": 603,
     "status": "ok",
     "timestamp": 1670091065489,
     "user": {
      "displayName": "Алёна Пашнина",
      "userId": "02026293091174524312"
     },
     "user_tz": -180
    },
    "id": "a7e42f2c",
    "outputId": "61b19538-f725-44fe-d346-df4247afa8ae"
   },
   "outputs": [
    {
     "name": "stdout",
     "output_type": "stream",
     "text": [
      "Число строк и столбцов в наборе данных:\n",
      " (4898, 12)\n"
     ]
    }
   ],
   "source": [
    "# загружаем таблицу и превращаем её во фрейм\n",
    "DF_raw = pd.read_csv('https://raw.githubusercontent.com/ania607/ML/main/data/winequality-white_for_lab.csv')\n",
    "DF_raw = DF_raw.drop(['quality'], axis=1)\n",
    "# выясняем размерность фрейма\n",
    "print('Число строк и столбцов в наборе данных:\\n', DF_raw.shape)"
   ]
  },
  {
   "cell_type": "code",
   "execution_count": 31,
   "id": "bc0a967b",
   "metadata": {
    "colab": {
     "base_uri": "https://localhost:8080/",
     "height": 270
    },
    "executionInfo": {
     "elapsed": 327,
     "status": "ok",
     "timestamp": 1670091074306,
     "user": {
      "displayName": "Алёна Пашнина",
      "userId": "02026293091174524312"
     },
     "user_tz": -180
    },
    "id": "bc0a967b",
    "outputId": "e59b94b3-bbf9-467b-f72e-5920195542b4"
   },
   "outputs": [
    {
     "data": {
      "text/html": [
       "<div>\n",
       "<style scoped>\n",
       "    .dataframe tbody tr th:only-of-type {\n",
       "        vertical-align: middle;\n",
       "    }\n",
       "\n",
       "    .dataframe tbody tr th {\n",
       "        vertical-align: top;\n",
       "    }\n",
       "\n",
       "    .dataframe thead th {\n",
       "        text-align: right;\n",
       "    }\n",
       "</style>\n",
       "<table border=\"1\" class=\"dataframe\">\n",
       "  <thead>\n",
       "    <tr style=\"text-align: right;\">\n",
       "      <th></th>\n",
       "      <th>fixed_acidity</th>\n",
       "      <th>volatile_acidity</th>\n",
       "      <th>citric_acid</th>\n",
       "      <th>residual_sugar</th>\n",
       "      <th>chlorides</th>\n",
       "      <th>free_sulfur_dioxide</th>\n",
       "      <th>total_sulfur_dioxide</th>\n",
       "      <th>density</th>\n",
       "      <th>pH</th>\n",
       "      <th>sulphates</th>\n",
       "      <th>alcohol</th>\n",
       "      <th>Y</th>\n",
       "    </tr>\n",
       "  </thead>\n",
       "  <tbody>\n",
       "    <tr>\n",
       "      <th>0</th>\n",
       "      <td>7.0</td>\n",
       "      <td>0.27</td>\n",
       "      <td>0.36</td>\n",
       "      <td>20.7</td>\n",
       "      <td>0.045</td>\n",
       "      <td>45.0</td>\n",
       "      <td>170.0</td>\n",
       "      <td>1.0010</td>\n",
       "      <td>3.00</td>\n",
       "      <td>0.45</td>\n",
       "      <td>8.8</td>\n",
       "      <td>1</td>\n",
       "    </tr>\n",
       "    <tr>\n",
       "      <th>1</th>\n",
       "      <td>6.3</td>\n",
       "      <td>0.30</td>\n",
       "      <td>0.34</td>\n",
       "      <td>1.6</td>\n",
       "      <td>0.049</td>\n",
       "      <td>14.0</td>\n",
       "      <td>132.0</td>\n",
       "      <td>0.9940</td>\n",
       "      <td>3.30</td>\n",
       "      <td>0.49</td>\n",
       "      <td>9.5</td>\n",
       "      <td>1</td>\n",
       "    </tr>\n",
       "    <tr>\n",
       "      <th>2</th>\n",
       "      <td>8.1</td>\n",
       "      <td>0.28</td>\n",
       "      <td>0.40</td>\n",
       "      <td>6.9</td>\n",
       "      <td>0.050</td>\n",
       "      <td>30.0</td>\n",
       "      <td>97.0</td>\n",
       "      <td>0.9951</td>\n",
       "      <td>3.26</td>\n",
       "      <td>0.44</td>\n",
       "      <td>10.1</td>\n",
       "      <td>1</td>\n",
       "    </tr>\n",
       "    <tr>\n",
       "      <th>3</th>\n",
       "      <td>7.2</td>\n",
       "      <td>0.23</td>\n",
       "      <td>0.32</td>\n",
       "      <td>8.5</td>\n",
       "      <td>0.058</td>\n",
       "      <td>47.0</td>\n",
       "      <td>186.0</td>\n",
       "      <td>0.9956</td>\n",
       "      <td>3.19</td>\n",
       "      <td>0.40</td>\n",
       "      <td>9.9</td>\n",
       "      <td>1</td>\n",
       "    </tr>\n",
       "    <tr>\n",
       "      <th>4</th>\n",
       "      <td>7.2</td>\n",
       "      <td>0.23</td>\n",
       "      <td>0.32</td>\n",
       "      <td>8.5</td>\n",
       "      <td>0.058</td>\n",
       "      <td>47.0</td>\n",
       "      <td>186.0</td>\n",
       "      <td>0.9956</td>\n",
       "      <td>3.19</td>\n",
       "      <td>0.40</td>\n",
       "      <td>9.9</td>\n",
       "      <td>1</td>\n",
       "    </tr>\n",
       "  </tbody>\n",
       "</table>\n",
       "</div>"
      ],
      "text/plain": [
       "   fixed_acidity  volatile_acidity  citric_acid  residual_sugar  chlorides  \\\n",
       "0            7.0              0.27         0.36            20.7      0.045   \n",
       "1            6.3              0.30         0.34             1.6      0.049   \n",
       "2            8.1              0.28         0.40             6.9      0.050   \n",
       "3            7.2              0.23         0.32             8.5      0.058   \n",
       "4            7.2              0.23         0.32             8.5      0.058   \n",
       "\n",
       "   free_sulfur_dioxide  total_sulfur_dioxide  density    pH  sulphates  \\\n",
       "0                 45.0                 170.0   1.0010  3.00       0.45   \n",
       "1                 14.0                 132.0   0.9940  3.30       0.49   \n",
       "2                 30.0                  97.0   0.9951  3.26       0.44   \n",
       "3                 47.0                 186.0   0.9956  3.19       0.40   \n",
       "4                 47.0                 186.0   0.9956  3.19       0.40   \n",
       "\n",
       "   alcohol  Y  \n",
       "0      8.8  1  \n",
       "1      9.5  1  \n",
       "2     10.1  1  \n",
       "3      9.9  1  \n",
       "4      9.9  1  "
      ]
     },
     "execution_count": 31,
     "metadata": {},
     "output_type": "execute_result"
    }
   ],
   "source": [
    "DF_raw.head(5)"
   ]
  },
  {
   "cell_type": "code",
   "execution_count": 32,
   "id": "07670649",
   "metadata": {
    "colab": {
     "base_uri": "https://localhost:8080/"
    },
    "executionInfo": {
     "elapsed": 309,
     "status": "ok",
     "timestamp": 1670091080630,
     "user": {
      "displayName": "Алёна Пашнина",
      "userId": "02026293091174524312"
     },
     "user_tz": -180
    },
    "id": "07670649",
    "outputId": "2a761095-bb59-4ac6-fecf-7899543022fa"
   },
   "outputs": [
    {
     "data": {
      "text/plain": [
       "fixed_acidity           float64\n",
       "volatile_acidity        float64\n",
       "citric_acid             float64\n",
       "residual_sugar          float64\n",
       "chlorides               float64\n",
       "free_sulfur_dioxide     float64\n",
       "total_sulfur_dioxide    float64\n",
       "density                 float64\n",
       "pH                      float64\n",
       "sulphates               float64\n",
       "alcohol                 float64\n",
       "Y                         int64\n",
       "dtype: object"
      ]
     },
     "execution_count": 32,
     "metadata": {},
     "output_type": "execute_result"
    }
   ],
   "source": [
    "# типы столбцов\n",
    "DF_raw.dtypes"
   ]
  },
  {
   "cell_type": "code",
   "execution_count": 33,
   "id": "eb99ea70",
   "metadata": {
    "colab": {
     "base_uri": "https://localhost:8080/"
    },
    "executionInfo": {
     "elapsed": 45,
     "status": "ok",
     "timestamp": 1670090477896,
     "user": {
      "displayName": "Алёна Пашнина",
      "userId": "02026293091174524312"
     },
     "user_tz": -180
    },
    "id": "eb99ea70",
    "outputId": "0a8feeb0-0e5c-4eea-bd39-7c971469ec5a"
   },
   "outputs": [
    {
     "data": {
      "text/plain": [
       "fixed_acidity           0\n",
       "volatile_acidity        0\n",
       "citric_acid             0\n",
       "residual_sugar          0\n",
       "chlorides               0\n",
       "free_sulfur_dioxide     0\n",
       "total_sulfur_dioxide    0\n",
       "density                 0\n",
       "pH                      0\n",
       "sulphates               0\n",
       "alcohol                 0\n",
       "Y                       0\n",
       "dtype: int64"
      ]
     },
     "execution_count": 33,
     "metadata": {},
     "output_type": "execute_result"
    }
   ],
   "source": [
    "DF_raw.isna().sum()"
   ]
  },
  {
   "cell_type": "code",
   "execution_count": 34,
   "id": "shytn5xAIPRI",
   "metadata": {
    "id": "shytn5xAIPRI"
   },
   "outputs": [],
   "source": [
    "DF = DF_raw.sample(frac = 0.85, random_state = my_seed)\n",
    "DF_predict = DF_raw.drop(DF.index)"
   ]
  },
  {
   "cell_type": "code",
   "execution_count": 35,
   "id": "XMML8904IzC-",
   "metadata": {
    "colab": {
     "base_uri": "https://localhost:8080/",
     "height": 364
    },
    "executionInfo": {
     "elapsed": 486,
     "status": "ok",
     "timestamp": 1670090478343,
     "user": {
      "displayName": "Алёна Пашнина",
      "userId": "02026293091174524312"
     },
     "user_tz": -180
    },
    "id": "XMML8904IzC-",
    "outputId": "21ba0419-5d92-4cb3-922d-6a8cb9ae8edb"
   },
   "outputs": [
    {
     "data": {
      "text/html": [
       "<div>\n",
       "<style scoped>\n",
       "    .dataframe tbody tr th:only-of-type {\n",
       "        vertical-align: middle;\n",
       "    }\n",
       "\n",
       "    .dataframe tbody tr th {\n",
       "        vertical-align: top;\n",
       "    }\n",
       "\n",
       "    .dataframe thead th {\n",
       "        text-align: right;\n",
       "    }\n",
       "</style>\n",
       "<table border=\"1\" class=\"dataframe\">\n",
       "  <thead>\n",
       "    <tr style=\"text-align: right;\">\n",
       "      <th></th>\n",
       "      <th>fixed_acidity</th>\n",
       "      <th>volatile_acidity</th>\n",
       "      <th>citric_acid</th>\n",
       "      <th>residual_sugar</th>\n",
       "      <th>chlorides</th>\n",
       "      <th>free_sulfur_dioxide</th>\n",
       "      <th>total_sulfur_dioxide</th>\n",
       "      <th>density</th>\n",
       "      <th>pH</th>\n",
       "      <th>sulphates</th>\n",
       "      <th>alcohol</th>\n",
       "      <th>Y</th>\n",
       "    </tr>\n",
       "  </thead>\n",
       "  <tbody>\n",
       "    <tr>\n",
       "      <th>count</th>\n",
       "      <td>4163.000000</td>\n",
       "      <td>4163.000000</td>\n",
       "      <td>4163.000000</td>\n",
       "      <td>4163.000000</td>\n",
       "      <td>4163.000000</td>\n",
       "      <td>4163.000000</td>\n",
       "      <td>4163.000000</td>\n",
       "      <td>4163.000000</td>\n",
       "      <td>4163.000000</td>\n",
       "      <td>4163.000000</td>\n",
       "      <td>4163.000000</td>\n",
       "      <td>4163.000000</td>\n",
       "    </tr>\n",
       "    <tr>\n",
       "      <th>mean</th>\n",
       "      <td>6.849135</td>\n",
       "      <td>0.278086</td>\n",
       "      <td>0.333541</td>\n",
       "      <td>6.366731</td>\n",
       "      <td>0.045917</td>\n",
       "      <td>35.201417</td>\n",
       "      <td>138.328369</td>\n",
       "      <td>0.994012</td>\n",
       "      <td>3.189784</td>\n",
       "      <td>0.489926</td>\n",
       "      <td>10.522423</td>\n",
       "      <td>0.664425</td>\n",
       "    </tr>\n",
       "    <tr>\n",
       "      <th>std</th>\n",
       "      <td>0.844912</td>\n",
       "      <td>0.100482</td>\n",
       "      <td>0.118623</td>\n",
       "      <td>5.088573</td>\n",
       "      <td>0.022027</td>\n",
       "      <td>17.003168</td>\n",
       "      <td>42.613313</td>\n",
       "      <td>0.003013</td>\n",
       "      <td>0.151397</td>\n",
       "      <td>0.113545</td>\n",
       "      <td>1.233513</td>\n",
       "      <td>0.472248</td>\n",
       "    </tr>\n",
       "    <tr>\n",
       "      <th>min</th>\n",
       "      <td>3.800000</td>\n",
       "      <td>0.080000</td>\n",
       "      <td>0.000000</td>\n",
       "      <td>0.600000</td>\n",
       "      <td>0.009000</td>\n",
       "      <td>2.000000</td>\n",
       "      <td>9.000000</td>\n",
       "      <td>0.987110</td>\n",
       "      <td>2.720000</td>\n",
       "      <td>0.220000</td>\n",
       "      <td>8.000000</td>\n",
       "      <td>0.000000</td>\n",
       "    </tr>\n",
       "    <tr>\n",
       "      <th>25%</th>\n",
       "      <td>6.300000</td>\n",
       "      <td>0.210000</td>\n",
       "      <td>0.270000</td>\n",
       "      <td>1.700000</td>\n",
       "      <td>0.036000</td>\n",
       "      <td>23.000000</td>\n",
       "      <td>108.000000</td>\n",
       "      <td>0.991700</td>\n",
       "      <td>3.090000</td>\n",
       "      <td>0.410000</td>\n",
       "      <td>9.500000</td>\n",
       "      <td>0.000000</td>\n",
       "    </tr>\n",
       "    <tr>\n",
       "      <th>50%</th>\n",
       "      <td>6.800000</td>\n",
       "      <td>0.260000</td>\n",
       "      <td>0.320000</td>\n",
       "      <td>5.100000</td>\n",
       "      <td>0.043000</td>\n",
       "      <td>34.000000</td>\n",
       "      <td>134.000000</td>\n",
       "      <td>0.993700</td>\n",
       "      <td>3.180000</td>\n",
       "      <td>0.480000</td>\n",
       "      <td>10.400000</td>\n",
       "      <td>1.000000</td>\n",
       "    </tr>\n",
       "    <tr>\n",
       "      <th>75%</th>\n",
       "      <td>7.300000</td>\n",
       "      <td>0.320000</td>\n",
       "      <td>0.380000</td>\n",
       "      <td>9.800000</td>\n",
       "      <td>0.050000</td>\n",
       "      <td>45.000000</td>\n",
       "      <td>168.000000</td>\n",
       "      <td>0.996100</td>\n",
       "      <td>3.280000</td>\n",
       "      <td>0.550000</td>\n",
       "      <td>11.400000</td>\n",
       "      <td>1.000000</td>\n",
       "    </tr>\n",
       "    <tr>\n",
       "      <th>max</th>\n",
       "      <td>14.200000</td>\n",
       "      <td>1.100000</td>\n",
       "      <td>1.230000</td>\n",
       "      <td>65.800000</td>\n",
       "      <td>0.346000</td>\n",
       "      <td>289.000000</td>\n",
       "      <td>440.000000</td>\n",
       "      <td>1.038980</td>\n",
       "      <td>3.820000</td>\n",
       "      <td>1.080000</td>\n",
       "      <td>14.200000</td>\n",
       "      <td>1.000000</td>\n",
       "    </tr>\n",
       "  </tbody>\n",
       "</table>\n",
       "</div>"
      ],
      "text/plain": [
       "       fixed_acidity  volatile_acidity  citric_acid  residual_sugar  \\\n",
       "count    4163.000000       4163.000000  4163.000000     4163.000000   \n",
       "mean        6.849135          0.278086     0.333541        6.366731   \n",
       "std         0.844912          0.100482     0.118623        5.088573   \n",
       "min         3.800000          0.080000     0.000000        0.600000   \n",
       "25%         6.300000          0.210000     0.270000        1.700000   \n",
       "50%         6.800000          0.260000     0.320000        5.100000   \n",
       "75%         7.300000          0.320000     0.380000        9.800000   \n",
       "max        14.200000          1.100000     1.230000       65.800000   \n",
       "\n",
       "         chlorides  free_sulfur_dioxide  total_sulfur_dioxide      density  \\\n",
       "count  4163.000000          4163.000000           4163.000000  4163.000000   \n",
       "mean      0.045917            35.201417            138.328369     0.994012   \n",
       "std       0.022027            17.003168             42.613313     0.003013   \n",
       "min       0.009000             2.000000              9.000000     0.987110   \n",
       "25%       0.036000            23.000000            108.000000     0.991700   \n",
       "50%       0.043000            34.000000            134.000000     0.993700   \n",
       "75%       0.050000            45.000000            168.000000     0.996100   \n",
       "max       0.346000           289.000000            440.000000     1.038980   \n",
       "\n",
       "                pH    sulphates      alcohol            Y  \n",
       "count  4163.000000  4163.000000  4163.000000  4163.000000  \n",
       "mean      3.189784     0.489926    10.522423     0.664425  \n",
       "std       0.151397     0.113545     1.233513     0.472248  \n",
       "min       2.720000     0.220000     8.000000     0.000000  \n",
       "25%       3.090000     0.410000     9.500000     0.000000  \n",
       "50%       3.180000     0.480000    10.400000     1.000000  \n",
       "75%       3.280000     0.550000    11.400000     1.000000  \n",
       "max       3.820000     1.080000    14.200000     1.000000  "
      ]
     },
     "execution_count": 35,
     "metadata": {},
     "output_type": "execute_result"
    }
   ],
   "source": [
    "DF.describe()"
   ]
  },
  {
   "cell_type": "markdown",
   "id": "a8a302f9",
   "metadata": {
    "id": "a8a302f9"
   },
   "source": [
    "# Преобразование исходных данных и построение моделей\n",
    "## Стандартизация и переход к главным компонентам\n",
    "\n",
    "В качестве альтернативных моделей рассмотрим SVM с различными вариантами ядер и логистическую регрессию. Причём предварительно преобразуем пространство исходных показателей с помощью метода главных компонент."
   ]
  },
  {
   "cell_type": "code",
   "execution_count": 36,
   "id": "c6f4304b",
   "metadata": {
    "colab": {
     "base_uri": "https://localhost:8080/"
    },
    "executionInfo": {
     "elapsed": 9,
     "status": "ok",
     "timestamp": 1670090482102,
     "user": {
      "displayName": "Алёна Пашнина",
      "userId": "02026293091174524312"
     },
     "user_tz": -180
    },
    "id": "c6f4304b",
    "outputId": "126bf43a-8b9b-4bc0-815b-13e6f160c4d3"
   },
   "outputs": [
    {
     "name": "stdout",
     "output_type": "stream",
     "text": [
      "Доли объяснённой дисперсии по компонентам в PLS:\n",
      " [0.279 0.13  0.115 0.089 0.081 0.078 0.065 0.06  0.048 0.03  0.024 0.002] \n",
      "Общая сумма долей: 1.0\n"
     ]
    }
   ],
   "source": [
    "# стандартизация\n",
    "sc = StandardScaler()\n",
    "X_train_std = sc.fit_transform(DF.iloc[:, 0:12].values)\n",
    "\n",
    "# оцениваем объяснённую главными компонентами дисперсию\n",
    "pca = PCA()\n",
    "X_train_pca = pca.fit_transform(X_train_std)\n",
    "\n",
    "# считаем доли объяснённой дисперсии\n",
    "frac_var_expl = pca.explained_variance_ratio_\n",
    "print('Доли объяснённой дисперсии по компонентам в PLS:\\n',\n",
    "    np.around(frac_var_expl, 3),\n",
    "    '\\nОбщая сумма долей:', np.around(sum(frac_var_expl), 3))"
   ]
  },
  {
   "cell_type": "markdown",
   "id": "22dcbc9e",
   "metadata": {
    "id": "22dcbc9e"
   },
   "source": [
    "Таким образом, первые две главные компоненты объясняют 40.9% разброса 11 объясняющих переменных.\n",
    "Теперь объединим функции-преобразователи и оценщики в конвейер с помощью `Pipeline` и оценим точность логистической регрессии с помощью перекрёстной проверки."
   ]
  },
  {
   "cell_type": "markdown",
   "id": "32dfd3f9",
   "metadata": {
    "id": "32dfd3f9"
   },
   "source": [
    "## Модель логистической регрессии с перекрёстной проверкой"
   ]
  },
  {
   "cell_type": "code",
   "execution_count": 37,
   "id": "fa663583",
   "metadata": {
    "colab": {
     "base_uri": "https://localhost:8080/"
    },
    "executionInfo": {
     "elapsed": 376,
     "status": "ok",
     "timestamp": 1670090483071,
     "user": {
      "displayName": "Алёна Пашнина",
      "userId": "02026293091174524312"
     },
     "user_tz": -180
    },
    "id": "fa663583",
    "outputId": "a3ef8106-e4af-4471-e5ac-f3039014dff6"
   },
   "outputs": [
    {
     "name": "stdout",
     "output_type": "stream",
     "text": [
      "Acc с перекрёстной проверкой \n",
      "для модели sc_pca_logit : 0.699\n"
     ]
    }
   ],
   "source": [
    "# данные для обучения моделей\n",
    "X_train = DF.iloc[:, 0:12] \n",
    "y_train = DF.iloc[:, -1]\n",
    "\n",
    "# объединяем в конвейер шкалирование, ГК с 2 компонентами и логит\n",
    "pipe_lr = make_pipeline(StandardScaler(),\n",
    "                        PCA(n_components = 2),\n",
    "                        LogisticRegression(random_state = my_seed, \n",
    "                                           solver = 'lbfgs'))\n",
    "\n",
    "# будем сохранять точность моделей в один массив\n",
    "score = list()\n",
    "score_models = list()\n",
    "\n",
    "# считаем точность с перекрёстной проверкой, показатель Acc\n",
    "cv = cross_val_score(estimator = pipe_lr, X = X_train, y = y_train, \n",
    "                     cv = 5, scoring='accuracy')\n",
    "\n",
    "# записываем точность\n",
    "score.append(np.around(np.mean(cv), 3)) \n",
    "score_models.append('sc_pca_logit')\n",
    "print('Acc с перекрёстной проверкой',\n",
    "      '\\nдля модели', score_models[0], ':', score[0])"
   ]
  },
  {
   "cell_type": "code",
   "execution_count": 38,
   "id": "uj2hl-rdhH9f",
   "metadata": {
    "colab": {
     "base_uri": "https://localhost:8080/",
     "height": 488
    },
    "executionInfo": {
     "elapsed": 38,
     "status": "ok",
     "timestamp": 1670090483084,
     "user": {
      "displayName": "Алёна Пашнина",
      "userId": "02026293091174524312"
     },
     "user_tz": -180
    },
    "id": "uj2hl-rdhH9f",
    "outputId": "776ae6e9-0e12-40fd-9df4-dc4a559c48d4"
   },
   "outputs": [
    {
     "data": {
      "text/html": [
       "<div>\n",
       "<style scoped>\n",
       "    .dataframe tbody tr th:only-of-type {\n",
       "        vertical-align: middle;\n",
       "    }\n",
       "\n",
       "    .dataframe tbody tr th {\n",
       "        vertical-align: top;\n",
       "    }\n",
       "\n",
       "    .dataframe thead th {\n",
       "        text-align: right;\n",
       "    }\n",
       "</style>\n",
       "<table border=\"1\" class=\"dataframe\">\n",
       "  <thead>\n",
       "    <tr style=\"text-align: right;\">\n",
       "      <th></th>\n",
       "      <th>fixed_acidity</th>\n",
       "      <th>volatile_acidity</th>\n",
       "      <th>citric_acid</th>\n",
       "      <th>residual_sugar</th>\n",
       "      <th>chlorides</th>\n",
       "      <th>free_sulfur_dioxide</th>\n",
       "      <th>total_sulfur_dioxide</th>\n",
       "      <th>density</th>\n",
       "      <th>pH</th>\n",
       "      <th>sulphates</th>\n",
       "      <th>alcohol</th>\n",
       "      <th>Y</th>\n",
       "    </tr>\n",
       "  </thead>\n",
       "  <tbody>\n",
       "    <tr>\n",
       "      <th>3765</th>\n",
       "      <td>6.9</td>\n",
       "      <td>0.40</td>\n",
       "      <td>0.17</td>\n",
       "      <td>12.90</td>\n",
       "      <td>0.033</td>\n",
       "      <td>59.0</td>\n",
       "      <td>186.0</td>\n",
       "      <td>0.99754</td>\n",
       "      <td>3.08</td>\n",
       "      <td>0.49</td>\n",
       "      <td>9.4</td>\n",
       "      <td>0</td>\n",
       "    </tr>\n",
       "    <tr>\n",
       "      <th>154</th>\n",
       "      <td>8.2</td>\n",
       "      <td>0.23</td>\n",
       "      <td>0.40</td>\n",
       "      <td>7.50</td>\n",
       "      <td>0.049</td>\n",
       "      <td>12.0</td>\n",
       "      <td>76.0</td>\n",
       "      <td>0.99660</td>\n",
       "      <td>3.06</td>\n",
       "      <td>0.84</td>\n",
       "      <td>9.7</td>\n",
       "      <td>1</td>\n",
       "    </tr>\n",
       "    <tr>\n",
       "      <th>1383</th>\n",
       "      <td>7.1</td>\n",
       "      <td>0.36</td>\n",
       "      <td>0.56</td>\n",
       "      <td>1.30</td>\n",
       "      <td>0.046</td>\n",
       "      <td>25.0</td>\n",
       "      <td>102.0</td>\n",
       "      <td>0.99230</td>\n",
       "      <td>3.24</td>\n",
       "      <td>0.33</td>\n",
       "      <td>10.5</td>\n",
       "      <td>1</td>\n",
       "    </tr>\n",
       "    <tr>\n",
       "      <th>568</th>\n",
       "      <td>6.1</td>\n",
       "      <td>0.26</td>\n",
       "      <td>0.51</td>\n",
       "      <td>2.20</td>\n",
       "      <td>0.050</td>\n",
       "      <td>61.0</td>\n",
       "      <td>154.0</td>\n",
       "      <td>0.99290</td>\n",
       "      <td>3.08</td>\n",
       "      <td>0.60</td>\n",
       "      <td>9.8</td>\n",
       "      <td>1</td>\n",
       "    </tr>\n",
       "    <tr>\n",
       "      <th>1338</th>\n",
       "      <td>6.7</td>\n",
       "      <td>0.18</td>\n",
       "      <td>0.30</td>\n",
       "      <td>6.40</td>\n",
       "      <td>0.048</td>\n",
       "      <td>40.0</td>\n",
       "      <td>251.0</td>\n",
       "      <td>0.99560</td>\n",
       "      <td>3.29</td>\n",
       "      <td>0.52</td>\n",
       "      <td>10.0</td>\n",
       "      <td>0</td>\n",
       "    </tr>\n",
       "    <tr>\n",
       "      <th>...</th>\n",
       "      <td>...</td>\n",
       "      <td>...</td>\n",
       "      <td>...</td>\n",
       "      <td>...</td>\n",
       "      <td>...</td>\n",
       "      <td>...</td>\n",
       "      <td>...</td>\n",
       "      <td>...</td>\n",
       "      <td>...</td>\n",
       "      <td>...</td>\n",
       "      <td>...</td>\n",
       "      <td>...</td>\n",
       "    </tr>\n",
       "    <tr>\n",
       "      <th>4189</th>\n",
       "      <td>6.4</td>\n",
       "      <td>0.21</td>\n",
       "      <td>0.21</td>\n",
       "      <td>5.10</td>\n",
       "      <td>0.097</td>\n",
       "      <td>21.0</td>\n",
       "      <td>105.0</td>\n",
       "      <td>0.99390</td>\n",
       "      <td>3.07</td>\n",
       "      <td>0.46</td>\n",
       "      <td>9.6</td>\n",
       "      <td>0</td>\n",
       "    </tr>\n",
       "    <tr>\n",
       "      <th>1466</th>\n",
       "      <td>6.9</td>\n",
       "      <td>0.19</td>\n",
       "      <td>0.49</td>\n",
       "      <td>6.60</td>\n",
       "      <td>0.036</td>\n",
       "      <td>49.0</td>\n",
       "      <td>172.0</td>\n",
       "      <td>0.99320</td>\n",
       "      <td>3.20</td>\n",
       "      <td>0.27</td>\n",
       "      <td>11.5</td>\n",
       "      <td>1</td>\n",
       "    </tr>\n",
       "    <tr>\n",
       "      <th>4436</th>\n",
       "      <td>6.7</td>\n",
       "      <td>0.28</td>\n",
       "      <td>0.28</td>\n",
       "      <td>4.50</td>\n",
       "      <td>0.051</td>\n",
       "      <td>14.0</td>\n",
       "      <td>92.0</td>\n",
       "      <td>0.99224</td>\n",
       "      <td>3.36</td>\n",
       "      <td>0.58</td>\n",
       "      <td>11.9</td>\n",
       "      <td>1</td>\n",
       "    </tr>\n",
       "    <tr>\n",
       "      <th>2125</th>\n",
       "      <td>6.0</td>\n",
       "      <td>0.28</td>\n",
       "      <td>0.22</td>\n",
       "      <td>12.15</td>\n",
       "      <td>0.048</td>\n",
       "      <td>42.0</td>\n",
       "      <td>163.0</td>\n",
       "      <td>0.99570</td>\n",
       "      <td>3.20</td>\n",
       "      <td>0.46</td>\n",
       "      <td>10.1</td>\n",
       "      <td>0</td>\n",
       "    </tr>\n",
       "    <tr>\n",
       "      <th>3972</th>\n",
       "      <td>6.8</td>\n",
       "      <td>0.37</td>\n",
       "      <td>0.67</td>\n",
       "      <td>1.50</td>\n",
       "      <td>0.175</td>\n",
       "      <td>16.0</td>\n",
       "      <td>98.0</td>\n",
       "      <td>0.99244</td>\n",
       "      <td>3.06</td>\n",
       "      <td>0.56</td>\n",
       "      <td>10.3</td>\n",
       "      <td>1</td>\n",
       "    </tr>\n",
       "  </tbody>\n",
       "</table>\n",
       "<p>4163 rows × 12 columns</p>\n",
       "</div>"
      ],
      "text/plain": [
       "      fixed_acidity  volatile_acidity  citric_acid  residual_sugar  chlorides  \\\n",
       "3765            6.9              0.40         0.17           12.90      0.033   \n",
       "154             8.2              0.23         0.40            7.50      0.049   \n",
       "1383            7.1              0.36         0.56            1.30      0.046   \n",
       "568             6.1              0.26         0.51            2.20      0.050   \n",
       "1338            6.7              0.18         0.30            6.40      0.048   \n",
       "...             ...               ...          ...             ...        ...   \n",
       "4189            6.4              0.21         0.21            5.10      0.097   \n",
       "1466            6.9              0.19         0.49            6.60      0.036   \n",
       "4436            6.7              0.28         0.28            4.50      0.051   \n",
       "2125            6.0              0.28         0.22           12.15      0.048   \n",
       "3972            6.8              0.37         0.67            1.50      0.175   \n",
       "\n",
       "      free_sulfur_dioxide  total_sulfur_dioxide  density    pH  sulphates  \\\n",
       "3765                 59.0                 186.0  0.99754  3.08       0.49   \n",
       "154                  12.0                  76.0  0.99660  3.06       0.84   \n",
       "1383                 25.0                 102.0  0.99230  3.24       0.33   \n",
       "568                  61.0                 154.0  0.99290  3.08       0.60   \n",
       "1338                 40.0                 251.0  0.99560  3.29       0.52   \n",
       "...                   ...                   ...      ...   ...        ...   \n",
       "4189                 21.0                 105.0  0.99390  3.07       0.46   \n",
       "1466                 49.0                 172.0  0.99320  3.20       0.27   \n",
       "4436                 14.0                  92.0  0.99224  3.36       0.58   \n",
       "2125                 42.0                 163.0  0.99570  3.20       0.46   \n",
       "3972                 16.0                  98.0  0.99244  3.06       0.56   \n",
       "\n",
       "      alcohol  Y  \n",
       "3765      9.4  0  \n",
       "154       9.7  1  \n",
       "1383     10.5  1  \n",
       "568       9.8  1  \n",
       "1338     10.0  0  \n",
       "...       ... ..  \n",
       "4189      9.6  0  \n",
       "1466     11.5  1  \n",
       "4436     11.9  1  \n",
       "2125     10.1  0  \n",
       "3972     10.3  1  \n",
       "\n",
       "[4163 rows x 12 columns]"
      ]
     },
     "execution_count": 38,
     "metadata": {},
     "output_type": "execute_result"
    }
   ],
   "source": [
    "X_train"
   ]
  },
  {
   "cell_type": "code",
   "execution_count": 39,
   "id": "HRw0xzdVjl71",
   "metadata": {
    "colab": {
     "base_uri": "https://localhost:8080/"
    },
    "executionInfo": {
     "elapsed": 39,
     "status": "ok",
     "timestamp": 1670090483090,
     "user": {
      "displayName": "Алёна Пашнина",
      "userId": "02026293091174524312"
     },
     "user_tz": -180
    },
    "id": "HRw0xzdVjl71",
    "outputId": "7f6a01db-3813-419e-c00c-2245d09b909e"
   },
   "outputs": [
    {
     "data": {
      "text/plain": [
       "3765    0\n",
       "154     1\n",
       "1383    1\n",
       "568     1\n",
       "1338    0\n",
       "       ..\n",
       "4189    0\n",
       "1466    1\n",
       "4436    1\n",
       "2125    0\n",
       "3972    1\n",
       "Name: Y, Length: 4163, dtype: int64"
      ]
     },
     "execution_count": 39,
     "metadata": {},
     "output_type": "execute_result"
    }
   ],
   "source": [
    "y_train"
   ]
  },
  {
   "cell_type": "markdown",
   "id": "Q3ZY0epHjssi",
   "metadata": {
    "id": "Q3ZY0epHjssi"
   },
   "source": [
    "\n",
    "\n",
    "```\n",
    "X_train и y_train определены правильно.\n",
    "```\n",
    "\n"
   ]
  },
  {
   "cell_type": "markdown",
   "id": "323b0274",
   "metadata": {
    "id": "323b0274"
   },
   "source": [
    "## SVM с перекрёстной проверкой\n",
    "\n",
    "Построим несколько вариантов модели SVM с различными ядерными функциями."
   ]
  },
  {
   "cell_type": "code",
   "execution_count": 40,
   "id": "b2a5cca0",
   "metadata": {
    "colab": {
     "base_uri": "https://localhost:8080/"
    },
    "executionInfo": {
     "elapsed": 30176,
     "status": "ok",
     "timestamp": 1670090513230,
     "user": {
      "displayName": "Алёна Пашнина",
      "userId": "02026293091174524312"
     },
     "user_tz": -180
    },
    "id": "b2a5cca0",
    "outputId": "fdceadfc-f4d8-4381-85c2-63b59889ecc0"
   },
   "outputs": [
    {
     "name": "stdout",
     "output_type": "stream",
     "text": [
      "Сеточный поиск занял 17.17 секунд\n"
     ]
    }
   ],
   "source": [
    "pipe_svc = make_pipeline(StandardScaler(), \n",
    "                         SVC(random_state = my_seed))\n",
    "\n",
    "# настроим параметры SVM с помощью сеточного поиска\n",
    "param_range = [0.0001, 0.001, 0.01, 0.1] \n",
    "param_grid = [{'svc__C': param_range,\n",
    "               'svc__kernel': ['linear']},\n",
    "              {'svc__C': param_range,\n",
    "               'svc__gamma': param_range,\n",
    "               'svc__kernel': ['rbf']},\n",
    "              {'svc__C': param_range,\n",
    "               'svc__gamma': param_range,\n",
    "               'svc__degree' : [2, 3],\n",
    "               'svc__kernel': ['poly']}]\n",
    "\n",
    "# разбиения для перекрёстной проверки\n",
    "kfold = KFold(n_splits = 5, random_state = my_seed, shuffle = True)\n",
    "gs = GridSearchCV(estimator = pipe_svc, param_grid = param_grid, \n",
    "                  scoring = 'accuracy', refit = True, cv = kfold, \n",
    "                  n_jobs = -1)\n",
    "\n",
    "# таймер\n",
    "tic = time.perf_counter()\n",
    "\n",
    "# запускаем сеточный поиск\n",
    "gs = gs.fit(X_train, y_train)\n",
    "\n",
    "# таймер\n",
    "toc = time.perf_counter()\n",
    "print(f\"Сеточный поиск занял {toc - tic:0.2f} секунд\", sep='')"
   ]
  },
  {
   "cell_type": "code",
   "execution_count": 41,
   "id": "18a58ca3",
   "metadata": {
    "colab": {
     "base_uri": "https://localhost:8080/"
    },
    "executionInfo": {
     "elapsed": 70,
     "status": "ok",
     "timestamp": 1670090513234,
     "user": {
      "displayName": "Алёна Пашнина",
      "userId": "02026293091174524312"
     },
     "user_tz": -180
    },
    "id": "18a58ca3",
    "outputId": "a16869a0-7a66-4e1a-fdef-f603a71c14bf"
   },
   "outputs": [
    {
     "data": {
      "text/plain": [
       "1.0"
      ]
     },
     "execution_count": 41,
     "metadata": {},
     "output_type": "execute_result"
    }
   ],
   "source": [
    "# точность лучшей модели\n",
    "np.around(gs.best_score_, 3)"
   ]
  },
  {
   "cell_type": "markdown",
   "id": "ZC24iB43kD9y",
   "metadata": {
    "id": "ZC24iB43kD9y"
   },
   "source": [
    "Точность > 96%, изменялся лист param_range."
   ]
  },
  {
   "cell_type": "code",
   "execution_count": 42,
   "id": "8b5d9a9f",
   "metadata": {
    "colab": {
     "base_uri": "https://localhost:8080/",
     "height": 36
    },
    "executionInfo": {
     "elapsed": 70,
     "status": "ok",
     "timestamp": 1670090513239,
     "user": {
      "displayName": "Алёна Пашнина",
      "userId": "02026293091174524312"
     },
     "user_tz": -180
    },
    "id": "8b5d9a9f",
    "outputId": "a1a4e8c7-2264-4cb3-80a5-fa3711d17523"
   },
   "outputs": [
    {
     "data": {
      "text/plain": [
       "'linear'"
      ]
     },
     "execution_count": 42,
     "metadata": {},
     "output_type": "execute_result"
    }
   ],
   "source": [
    "# параметры лучшей модели\n",
    "# * ядерная функция \n",
    "gs.best_estimator_.get_params()['svc__kernel']"
   ]
  },
  {
   "cell_type": "code",
   "execution_count": 43,
   "id": "96fbb50b",
   "metadata": {
    "colab": {
     "base_uri": "https://localhost:8080/"
    },
    "executionInfo": {
     "elapsed": 92,
     "status": "ok",
     "timestamp": 1670090513266,
     "user": {
      "displayName": "Алёна Пашнина",
      "userId": "02026293091174524312"
     },
     "user_tz": -180
    },
    "id": "96fbb50b",
    "outputId": "e5f94714-3ca2-40d8-9848-2cc910ea5d74"
   },
   "outputs": [
    {
     "data": {
      "text/plain": [
       "0.001"
      ]
     },
     "execution_count": 43,
     "metadata": {},
     "output_type": "execute_result"
    }
   ],
   "source": [
    "# * параметр регуляризации\n",
    "gs.best_estimator_.get_params()['svc__C']"
   ]
  },
  {
   "cell_type": "code",
   "execution_count": 44,
   "id": "83d3ba93",
   "metadata": {
    "colab": {
     "base_uri": "https://localhost:8080/",
     "height": 36
    },
    "executionInfo": {
     "elapsed": 97,
     "status": "ok",
     "timestamp": 1670090513275,
     "user": {
      "displayName": "Алёна Пашнина",
      "userId": "02026293091174524312"
     },
     "user_tz": -180
    },
    "id": "83d3ba93",
    "outputId": "3ab08f97-b7d4-4992-c86d-e8d1bcfb29bb"
   },
   "outputs": [
    {
     "data": {
      "text/plain": [
       "'scale'"
      ]
     },
     "execution_count": 44,
     "metadata": {},
     "output_type": "execute_result"
    }
   ],
   "source": [
    "# * коэффициент ядерной функции (для ядер 'rbf', 'poly' и 'sigmoid')\n",
    "gs.best_estimator_.get_params()['svc__gamma']"
   ]
  },
  {
   "cell_type": "code",
   "execution_count": 45,
   "id": "3159f144",
   "metadata": {
    "colab": {
     "base_uri": "https://localhost:8080/"
    },
    "executionInfo": {
     "elapsed": 102,
     "status": "ok",
     "timestamp": 1670090513283,
     "user": {
      "displayName": "Алёна Пашнина",
      "userId": "02026293091174524312"
     },
     "user_tz": -180
    },
    "id": "3159f144",
    "outputId": "71b9d481-ab47-40ff-84f9-90d2ad38fff3"
   },
   "outputs": [
    {
     "data": {
      "text/plain": [
       "3"
      ]
     },
     "execution_count": 45,
     "metadata": {},
     "output_type": "execute_result"
    }
   ],
   "source": [
    "# * степень полинома (для ядра 'poly')\n",
    "gs.best_estimator_.get_params()['svc__degree']"
   ]
  },
  {
   "cell_type": "code",
   "execution_count": 46,
   "id": "89bed28b",
   "metadata": {
    "colab": {
     "base_uri": "https://localhost:8080/"
    },
    "executionInfo": {
     "elapsed": 101,
     "status": "ok",
     "timestamp": 1670090513286,
     "user": {
      "displayName": "Алёна Пашнина",
      "userId": "02026293091174524312"
     },
     "user_tz": -180
    },
    "id": "89bed28b",
    "outputId": "e8e93958-a599-4771-e992-933e740fefbb"
   },
   "outputs": [
    {
     "name": "stdout",
     "output_type": "stream",
     "text": [
      "Acc с перекрёстной проверкой \n",
      "для модели sc_pca_svc : 1.0\n"
     ]
    }
   ],
   "source": [
    "score.append(np.around(gs.best_score_,3))\n",
    "score_models.append('sc_pca_svc')\n",
    "\n",
    "print('Acc с перекрёстной проверкой','\\nдля модели',score_models[1],':',score[1])"
   ]
  },
  {
   "cell_type": "markdown",
   "id": "a0M6M1nYOeBN",
   "metadata": {
    "id": "a0M6M1nYOeBN"
   },
   "source": [
    "# Метод kNN"
   ]
  },
  {
   "cell_type": "markdown",
   "id": "cvuMN1s6Xy9d",
   "metadata": {
    "id": "cvuMN1s6Xy9d"
   },
   "source": [
    "Реализуем метод k-ближайших соседей с преобразованием PCA."
   ]
  },
  {
   "cell_type": "code",
   "execution_count": 47,
   "id": "dz_XHEkNOhZb",
   "metadata": {
    "id": "dz_XHEkNOhZb"
   },
   "outputs": [],
   "source": [
    "from sklearn.neighbors import KNeighborsClassifier\n",
    "from sklearn.pipeline import Pipeline"
   ]
  },
  {
   "cell_type": "code",
   "execution_count": 48,
   "id": "zXKcT90lY1Z1",
   "metadata": {
    "colab": {
     "base_uri": "https://localhost:8080/"
    },
    "executionInfo": {
     "elapsed": 5203,
     "status": "ok",
     "timestamp": 1670090526773,
     "user": {
      "displayName": "Алёна Пашнина",
      "userId": "02026293091174524312"
     },
     "user_tz": -180
    },
    "id": "zXKcT90lY1Z1",
    "outputId": "8583d504-ab4c-4fd9-b5d5-a8d98931db15"
   },
   "outputs": [
    {
     "name": "stdout",
     "output_type": "stream",
     "text": [
      "Сеточный поиск занял 6.43 секунд\n"
     ]
    }
   ],
   "source": [
    "k_range = list(range(1,32))\n",
    "weight_options = [\"uniform\", \"distance\"]\n",
    "\n",
    "pipe_knn = Pipeline(steps=[('standard', StandardScaler()), ('PCA', PCA(n_components = 5)), ('knn', KNeighborsClassifier())])\n",
    "param_grid = {\n",
    "    'knn__n_neighbors': list(range(1,32))\n",
    "}\n",
    "\n",
    "knn = KNeighborsClassifier()\n",
    "kfold = KFold(n_splits = 5, random_state = my_seed, shuffle = True)\n",
    "grid = GridSearchCV(pipe_knn, param_grid, cv=kfold, scoring='accuracy')\n",
    "\n",
    "tic = time.perf_counter()\n",
    "grid.fit(X_train,y_train)\n",
    "toc = time.perf_counter()\n",
    "print(f\"Сеточный поиск занял {toc - tic:0.2f} секунд\", sep='')"
   ]
  },
  {
   "cell_type": "markdown",
   "id": "EOJUu_3DbZ8b",
   "metadata": {
    "id": "EOJUu_3DbZ8b"
   },
   "source": [
    "В ходе обучения модели я менял такие параметры как: n_splits и n_components в PCA (дало прибавку к точности с 0.699 до 0.954)"
   ]
  },
  {
   "cell_type": "code",
   "execution_count": 52,
   "id": "gDpgtPfiY789",
   "metadata": {
    "colab": {
     "base_uri": "https://localhost:8080/"
    },
    "executionInfo": {
     "elapsed": 60,
     "status": "ok",
     "timestamp": 1670090526775,
     "user": {
      "displayName": "Челышев Михаил",
      "userId": "02026293091284691257"
     },
     "user_tz": -180
    },
    "id": "gDpgtPfiY789",
    "outputId": "e773a377-6e5e-4089-d286-47c4bd61ed0a"
   },
   "outputs": [
    {
     "name": "stdout",
     "output_type": "stream",
     "text": [
      "Acc с перекрёстной проверкой \n",
      "для модели sc_pca_knn : 0.954\n"
     ]
    }
   ],
   "source": [
    "score.append(np.around(grid.best_score_,3))\n",
    "score_models.append('sc_pca_knn')\n",
    "\n",
    "print('Acc с перекрёстной проверкой','\\nдля модели',score_models[2],':',score[2])"
   ]
  },
  {
   "cell_type": "markdown",
   "id": "041010d5",
   "metadata": {
    "id": "041010d5"
   },
   "source": [
    "\n",
    "# Прогноз на отложенные наблюдения по лучшей модели\n",
    "\n",
    "Ещё раз посмотрим на точность построенных моделей.  "
   ]
  },
  {
   "cell_type": "code",
   "execution_count": 50,
   "id": "13f506f8",
   "metadata": {
    "colab": {
     "base_uri": "https://localhost:8080/",
     "height": 143
    },
    "executionInfo": {
     "elapsed": 401,
     "status": "ok",
     "timestamp": 1670090533752,
     "user": {
      "displayName": "Алёна Пашнина",
      "userId": "02026293091174524312"
     },
     "user_tz": -180
    },
    "id": "13f506f8",
    "outputId": "b0dc78d4-f8ff-43b2-f1a1-14f5d7c591ec"
   },
   "outputs": [
    {
     "data": {
      "text/html": [
       "<div>\n",
       "<style scoped>\n",
       "    .dataframe tbody tr th:only-of-type {\n",
       "        vertical-align: middle;\n",
       "    }\n",
       "\n",
       "    .dataframe tbody tr th {\n",
       "        vertical-align: top;\n",
       "    }\n",
       "\n",
       "    .dataframe thead th {\n",
       "        text-align: right;\n",
       "    }\n",
       "</style>\n",
       "<table border=\"1\" class=\"dataframe\">\n",
       "  <thead>\n",
       "    <tr style=\"text-align: right;\">\n",
       "      <th></th>\n",
       "      <th>Модель</th>\n",
       "      <th>Acc</th>\n",
       "    </tr>\n",
       "  </thead>\n",
       "  <tbody>\n",
       "    <tr>\n",
       "      <th>0</th>\n",
       "      <td>sc_pca_logit</td>\n",
       "      <td>0.699</td>\n",
       "    </tr>\n",
       "    <tr>\n",
       "      <th>1</th>\n",
       "      <td>sc_pca_svc</td>\n",
       "      <td>1.000</td>\n",
       "    </tr>\n",
       "    <tr>\n",
       "      <th>2</th>\n",
       "      <td>sc_pca_knn</td>\n",
       "      <td>0.954</td>\n",
       "    </tr>\n",
       "  </tbody>\n",
       "</table>\n",
       "</div>"
      ],
      "text/plain": [
       "         Модель    Acc\n",
       "0  sc_pca_logit  0.699\n",
       "1    sc_pca_svc  1.000\n",
       "2    sc_pca_knn  0.954"
      ]
     },
     "execution_count": 50,
     "metadata": {},
     "output_type": "execute_result"
    }
   ],
   "source": [
    "# сводка по точности моделей\n",
    "pd.DataFrame({'Модель' : score_models, 'Acc' : score})"
   ]
  },
  {
   "cell_type": "markdown",
   "id": "99c7c905",
   "metadata": {
    "id": "99c7c905"
   },
   "source": [
    "Все модели показывают хорошую точность по показателю $Acc$, при этом самой точной оказывается модель PCA + SVC. Сделаем прогноз на отложенные наблюдения.   "
   ]
  },
  {
   "cell_type": "code",
   "execution_count": 51,
   "id": "6f19fd52",
   "metadata": {
    "colab": {
     "base_uri": "https://localhost:8080/"
    },
    "executionInfo": {
     "elapsed": 9,
     "status": "ok",
     "timestamp": 1670090534048,
     "user": {
      "displayName": "Алёна Пашнина",
      "userId": "02026293091174524312"
     },
     "user_tz": -180
    },
    "id": "6f19fd52",
    "outputId": "56c0a192-73c9-4dba-badb-9b9608e7e58c"
   },
   "outputs": [
    {
     "name": "stdout",
     "output_type": "stream",
     "text": [
      "              precision    recall  f1-score   support\n",
      "\n",
      "           0       1.00      1.00      1.00       243\n",
      "           1       1.00      1.00      1.00       492\n",
      "\n",
      "    accuracy                           1.00       735\n",
      "   macro avg       1.00      1.00      1.00       735\n",
      "weighted avg       1.00      1.00      1.00       735\n",
      "\n"
     ]
    }
   ],
   "source": [
    "# прогноз с помощью лучшей модели ансамбля с SVC\n",
    "y_hat=gs.best_estimator_.predict(X=DF_predict.iloc[:, 0:12])\n",
    "# точность# характеристики точности\n",
    "print(classification_report(DF_predict.iloc[:,-1],y_hat))"
   ]
  }
 ],
 "metadata": {
  "colab": {
   "provenance": []
  },
  "kernelspec": {
   "display_name": "Python 3 (ipykernel)",
   "language": "python",
   "name": "python3"
  },
  "language_info": {
   "codemirror_mode": {
    "name": "ipython",
    "version": 3
   },
   "file_extension": ".py",
   "mimetype": "text/x-python",
   "name": "python",
   "nbconvert_exporter": "python",
   "pygments_lexer": "ipython3",
   "version": "3.9.13"
  },
  "vscode": {
   "interpreter": {
    "hash": "429b82198d9e5c2ae661da6b77875d76d88f8e4a7a46ff2af3287192e322275c"
   }
  }
 },
 "nbformat": 4,
 "nbformat_minor": 5
}
